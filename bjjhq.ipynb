{
 "cells": [
  {
   "cell_type": "code",
   "execution_count": 1,
   "metadata": {},
   "outputs": [],
   "source": [
    "# Create a venv\n",
    "# Start with requests\n",
    "# Host a flask site on intranet with listener\n",
    "# Listener curls from BJJHQ\n",
    "# Listener writes curled site to Redis DB (or should it be mongo?) on the flask site\n",
    "# Some processing using beautiful soup\n",
    "# API for creating custom rules? use fastapi and uvicorn\n",
    "# Send email according to custom rules using email package and smtplib package\n",
    "\n",
    "# Before continuing, create a venv and install the following packages:\n",
    "# * dotenv (python-dotenv)\n",
    "# * bs4 (BeautifulSoup4)\n",
    "# * requests\n",
    "# * ipykernel\n",
    "# * redis\n",
    "# * flask\n",
    "\n",
    "\n",
    "# Don't forget to run the following:\n",
    "# >ipython kernel install --user --name=bjj-hq-product-analyzer"
   ]
  },
  {
   "cell_type": "code",
   "execution_count": 2,
   "metadata": {},
   "outputs": [],
   "source": [
    "# Add an extended venv environment preparer here"
   ]
  },
  {
   "cell_type": "code",
   "execution_count": 3,
   "metadata": {},
   "outputs": [],
   "source": [
    "# Import dependencies and load environment variables in\n",
    "import os, venv, requests, bs4, datetime\n",
    "from bs4 import BeautifulSoup as soup\n",
    "from dotenv import load_dotenv\n",
    "from datetime import datetime as dt\n",
    "\n",
    "load_dotenv()\n",
    "dir = os.getenv(\"DIR\")\n",
    "dl_dir = os.path.join(dir, 'html-files')"
   ]
  },
  {
   "cell_type": "code",
   "execution_count": 4,
   "metadata": {},
   "outputs": [
    {
     "name": "stdout",
     "output_type": "stream",
     "text": [
      "09-16-2023_1508\n",
      "09-16-2023\n"
     ]
    }
   ],
   "source": [
    "def format_datetime(dt, time=True):\n",
    "    if (time):\n",
    "        return dt.strftime('%m-%d-%Y_%H%M')\n",
    "    else:\n",
    "        return dt.strftime('%m-%d-%Y')\n",
    "\n",
    "print(format_datetime(dt.today()))\n",
    "print(format_datetime(dt.today(), time=False))"
   ]
  },
  {
   "cell_type": "code",
   "execution_count": 5,
   "metadata": {},
   "outputs": [],
   "source": [
    "# per stackoverflow\n",
    "# https://stackoverflow.com/questions/16511337/correct-way-to-try-except-using-python-requests-module\n",
    "\n",
    "def make_request_from_url(url):\n",
    "    try:\n",
    "        response = requests.get(url, params={})\n",
    "        response.raise_for_status()\n",
    "    # except requests.exceptions.HTTPError as err:\n",
    "    #     raise SystemExit(err)\n",
    "    # except requests.exceptions.Timeout:\n",
    "    #     # Maybe set up for a retry, or continue in a retry loop\n",
    "    # except requests.exceptions.TooManyRedirects:\n",
    "    #     # Tell the user their URL was bad and try a different one\n",
    "    except requests.exceptions.RequestException as e:\n",
    "        raise SystemExit(e)\n",
    "    \n",
    "    return response"
   ]
  },
  {
   "cell_type": "code",
   "execution_count": 6,
   "metadata": {},
   "outputs": [],
   "source": [
    "# Only run this once a day for now. We don't want to spam them and get IP banned.\n",
    "url = 'http://bjjhq.com'\n",
    "response = make_request_from_url(url)\n",
    "raw_soup = soup(response.text, 'html.parser')\n"
   ]
  },
  {
   "cell_type": "code",
   "execution_count": 7,
   "metadata": {},
   "outputs": [],
   "source": [
    "def write_textfile(dir, fname, text):\n",
    "    try:\n",
    "        file_loc = os.path.join(dir, fname)\n",
    "        if not os.path.isfile(file_loc):\n",
    "            with open(file_loc, 'w') as f:\n",
    "                f.write(text)\n",
    "        else:\n",
    "            raise FileExistsError\n",
    "    except FileNotFoundError as e:\n",
    "        raise(e)\n",
    "    except FileExistsError:\n",
    "        print(f\"WARNING: Could not create file {fname} because it already exists.\")"
   ]
  },
  {
   "cell_type": "code",
   "execution_count": 8,
   "metadata": {},
   "outputs": [],
   "source": [
    "dl_fname = f'soup_{format_datetime(dt.today())}.txt'\n",
    "dl_fname_loc = os.path.join(dl_dir, dl_fname)"
   ]
  },
  {
   "cell_type": "code",
   "execution_count": 9,
   "metadata": {},
   "outputs": [
    {
     "ename": "NameError",
     "evalue": "name 'response_text' is not defined",
     "output_type": "error",
     "traceback": [
      "\u001b[0;31m---------------------------------------------------------------------------\u001b[0m",
      "\u001b[0;31mNameError\u001b[0m                                 Traceback (most recent call last)",
      "Cell \u001b[0;32mIn[9], line 3\u001b[0m\n\u001b[1;32m      1\u001b[0m \u001b[39mif\u001b[39;00m \u001b[39mnot\u001b[39;00m os\u001b[39m.\u001b[39mpath\u001b[39m.\u001b[39misdir(dl_dir):\n\u001b[1;32m      2\u001b[0m     os\u001b[39m.\u001b[39mmkdir(dl_dir)\n\u001b[0;32m----> 3\u001b[0m write_textfile(dl_dir, dl_fname, response_text)\n\u001b[1;32m      5\u001b[0m \u001b[39mwith\u001b[39;00m \u001b[39mopen\u001b[39m(dl_fname_loc) \u001b[39mas\u001b[39;00m f:\n\u001b[1;32m      6\u001b[0m     raw_soup \u001b[39m=\u001b[39m soup(f, \u001b[39m'\u001b[39m\u001b[39mhtml.parser\u001b[39m\u001b[39m'\u001b[39m)\n",
      "\u001b[0;31mNameError\u001b[0m: name 'response_text' is not defined"
     ]
    }
   ],
   "source": [
    "if not os.path.isdir(dl_dir):\n",
    "    os.mkdir(dl_dir)\n",
    "write_textfile(dl_dir, dl_fname, response_text)\n",
    "\n",
    "with open(dl_fname_loc) as f:\n",
    "    raw_soup = soup(f, 'html.parser')\n",
    "# TODO: code something here for permissions error if can't create the dir"
   ]
  },
  {
   "cell_type": "code",
   "execution_count": null,
   "metadata": {},
   "outputs": [
    {
     "name": "stdout",
     "output_type": "stream",
     "text": [
      "['08-27-2023', '08-26-2023', '08-25-2023', '08-24-2023', '08-23-2023', '08-22-2023', '08-21-2023', '08-20-2023', '08-19-2023', '08-18-2023']\n"
     ]
    }
   ],
   "source": [
    "today = dt.today()\n",
    "date_list = [today - datetime.timedelta(days=x) for x in range(10)]\n",
    "print([format_datetime(date, time=False) for date in date_list])"
   ]
  },
  {
   "cell_type": "code",
   "execution_count": null,
   "metadata": {},
   "outputs": [],
   "source": [
    "# Thinking we need to implement 2 versions of the BJJHQProduct class, so maybe need to abstract that out to an interface\n",
    "# TODO: determine if architecture of the newest is the same as the oldest\n",
    "# I don't think a queue will be possible for this because we will always need to access the next/previous item by the Previous / Next hyperlinks\n",
    "# unless we can find a sitemap but I have not been able to so far\n",
    "newest_archive_url = 'https://www.bjjhq.com/archives.html' # This will bring back yesterday's deal on a different formatted page\n",
    "oldest_archive_url = 'https://www.bjjhq.com/Vulkan-PRO-Light-Jiu-Jitsu-Gi-2011-06-13.html' # Ditto but for the oldest"
   ]
  },
  {
   "cell_type": "code",
   "execution_count": 1,
   "metadata": {},
   "outputs": [
    {
     "name": "stdout",
     "output_type": "stream",
     "text": [
      "Tables: []\n",
      "Could not drop table test_deals because test_deals does not exist.\n",
      "Tables: []\n",
      "Created table: test_deals.\n",
      "Tables: ['test_deals']\n",
      "Added deal to test_deals:\n",
      "Title: Kitsune \"Barrage\" Gear Bag - Brown\n",
      "Price: 25\n",
      "Description: Dimensions: Approx 31\" circumference when packed. 19.5\" Height x 10.5\" Width.\n",
      "Sale Date: 2023-09-16\n",
      "Could not create deal for Kitsune \"Barrage\" Gear Bag - Brown for product_date==2023-09-16 because it already exists!\n",
      "[('Kitsune \"Barrage\" Gear Bag - Brown', 25, 'Dimensions: Approx 31\" circumference when packed. 19.5\" Height x 10.5\" Width.', '2023-09-16', 'SESSION_USER', 'CURRENT_DATETIME', 'SESSION_USER', 'CURRENT_DATETIME')]\n",
      "Dropped table: test_deals.\n",
      "Tables: []\n"
     ]
    }
   ],
   "source": [
    "import sqlite3\n",
    "from devscripts.MockSoup import MockSoup\n",
    "from devscripts.sqlite_db_cmds import list_tables, table_exists, create_table, insert_record, drop_table\n",
    "from devscripts.BJJHQProduct import BJJHQProduct\n",
    "\n",
    "raw_soup = MockSoup().get_soup()\n",
    "product = BJJHQProduct(raw_soup)\n",
    "\n",
    "db_name = 'test_date.db'\n",
    "table_name = 'test_deals'\n",
    "\n",
    "conn = sqlite3.connect(db_name)\n",
    "cursor = conn.cursor()\n",
    "\n",
    "print(f\"Tables: {list_tables(cursor)}\")\n",
    "\n",
    "drop_table(cursor, table_name)\n",
    "\n",
    "print(f\"Tables: {list_tables(cursor)}\")\n",
    "\n",
    "if not table_exists(cursor, table_name):\n",
    "    create_table(cursor, table_name)\n",
    "    print(f\"Tables: {list_tables(cursor)}\")\n",
    "    insert_record(cursor, table_name, product)\n",
    "    \n",
    "insert_record(cursor, table_name, product)\n",
    "\n",
    "print(cursor.execute(f\"SELECT * FROM '{table_name}';\").fetchall())\n",
    "\n",
    "drop_table(cursor, table_name)\n",
    "\n",
    "print(f\"Tables: {list_tables(cursor)}\")\n",
    "\n",
    "conn.commit()\n",
    "conn.close()"
   ]
  }
 ],
 "metadata": {
  "kernelspec": {
   "display_name": "bjj-hq-product-analyzer",
   "language": "python",
   "name": "python3"
  },
  "language_info": {
   "codemirror_mode": {
    "name": "ipython",
    "version": 3
   },
   "file_extension": ".py",
   "mimetype": "text/x-python",
   "name": "python",
   "nbconvert_exporter": "python",
   "pygments_lexer": "ipython3",
   "version": "3.9.10"
  },
  "orig_nbformat": 4
 },
 "nbformat": 4,
 "nbformat_minor": 2
}
