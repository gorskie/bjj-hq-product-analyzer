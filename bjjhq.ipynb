{
 "cells": [
  {
   "cell_type": "code",
   "execution_count": 1,
   "metadata": {},
   "outputs": [
    {
     "ename": "ModuleNotFoundError",
     "evalue": "No module named 'requests'",
     "output_type": "error",
     "traceback": [
      "\u001b[0;31m---------------------------------------------------------------------------\u001b[0m",
      "\u001b[0;31mModuleNotFoundError\u001b[0m                       Traceback (most recent call last)",
      "Cell \u001b[0;32mIn[1], line 1\u001b[0m\n\u001b[0;32m----> 1\u001b[0m \u001b[39mimport\u001b[39;00m \u001b[39mos\u001b[39;00m\u001b[39m,\u001b[39m \u001b[39mvenv\u001b[39;00m\u001b[39m,\u001b[39m \u001b[39mrequests\u001b[39;00m\u001b[39m,\u001b[39m \u001b[39mbs4\u001b[39;00m\n\u001b[1;32m      2\u001b[0m \u001b[39m# Create a venv\u001b[39;00m\n\u001b[1;32m      3\u001b[0m \u001b[39m# Start with requests\u001b[39;00m\n\u001b[1;32m      4\u001b[0m \u001b[39m# Host a flask site on intranet with listener\u001b[39;00m\n\u001b[0;32m   (...)\u001b[0m\n\u001b[1;32m     11\u001b[0m \u001b[39m# Before continuing, create a venv and install the following packages:\u001b[39;00m\n\u001b[1;32m     12\u001b[0m \u001b[39m# * bs4 (BeautifulSoup4)\u001b[39;00m\n",
      "\u001b[0;31mModuleNotFoundError\u001b[0m: No module named 'requests'"
     ]
    }
   ],
   "source": [
    "# Create a venv\n",
    "# Start with requests\n",
    "# Host a flask site on intranet with listener\n",
    "# Listener curls from BJJHQ\n",
    "# Listener writes curled site to Redis DB (or should it be mongo?) on the flask site\n",
    "# Some processing using beautiful soup\n",
    "# API for creating custom rules? use fastapi and uvicorn\n",
    "# Send email according to custom rules using email package and smtplib package\n",
    "\n",
    "# Before continuing, create a venv and install the following packages:\n",
    "# * bs4 (BeautifulSoup4)\n",
    "# * requests\n",
    "# * ipykernel\n",
    "# * redis\n",
    "# * flask\n",
    "\n",
    "\n",
    "# Don't forget to run the following:\n",
    "# >ipython kernel install --user --name=projectname"
   ]
  },
  {
   "cell_type": "code",
   "execution_count": 2,
   "metadata": {},
   "outputs": [],
   "source": [
    "# Add an extended venv environment preparer here"
   ]
  },
  {
   "cell_type": "code",
   "execution_count": 3,
   "metadata": {},
   "outputs": [],
   "source": [
    "import os, venv, requests, bs4\n",
    "from bs4 import BeautifulSoup as soup"
   ]
  },
  {
   "cell_type": "code",
   "execution_count": 45,
   "metadata": {},
   "outputs": [],
   "source": [
    "host = 'bjjhq.com'\n",
    "url = f'http://{host}'\n",
    "\n",
    "# per stackoverflow\n",
    "# https://stackoverflow.com/questions/16511337/correct-way-to-try-except-using-python-requests-module\n",
    "try:\n",
    "    response = requests.get(url, params={})\n",
    "    response.raise_for_status()\n",
    "# except requests.exceptions.HTTPError as err:\n",
    "#     raise SystemExit(err)\n",
    "# except requests.exceptions.Timeout:\n",
    "#     # Maybe set up for a retry, or continue in a retry loop\n",
    "# except requests.exceptions.TooManyRedirects:\n",
    "#     # Tell the user their URL was bad and try a different one\n",
    "except requests.exceptions.RequestException as e:\n",
    "    raise SystemExit(e)\n",
    "\n",
    "response_text = response.text\n",
    "bjj_soup = soup(response_text)\n",
    "pretty = bjj_soup.prettify()"
   ]
  },
  {
   "cell_type": "code",
   "execution_count": 23,
   "metadata": {},
   "outputs": [
    {
     "name": "stdout",
     "output_type": "stream",
     "text": [
      "Phalanx \"Dragon\" Spats\n",
      "$35\n"
     ]
    }
   ],
   "source": [
    "product_title = bjj_soup.h1.get_text()\n",
    "print(product_title)\n",
    "\n",
    "elems = bjj_soup.find_all('em')\n",
    "price = [elem.text for elem in elems if elem.text.strip()[0] == '$'][0]\n",
    "print(price)\n"
   ]
  },
  {
   "cell_type": "code",
   "execution_count": 50,
   "metadata": {},
   "outputs": [],
   "source": [
    "def write_textfile(dir, filename, text):\n",
    "    try:\n",
    "        file_loc = os.path.join(dir, filename)\n",
    "        if not os.path.isfile(file_loc):\n",
    "            with open(file_loc, 'w') as f:\n",
    "                print(\"breadcrumb\")\n",
    "                f.write(text)\n",
    "        else:\n",
    "            raise FileExistsError\n",
    "    except FileNotFoundError as e:\n",
    "        raise(e)\n",
    "    except FileExistsError:\n",
    "        print(f\"WARNING: Could not create file {filename} because it already exists.\")"
   ]
  },
  {
   "cell_type": "code",
   "execution_count": 56,
   "metadata": {},
   "outputs": [
    {
     "name": "stdout",
     "output_type": "stream",
     "text": [
      "Could not create file soup_07-10-2023.txt because it already exists.\n"
     ]
    }
   ],
   "source": [
    "target_dir = '/Users/eric/pet projects/bjjhq/files'\n",
    "filename = 'soup_07-10-2023.txt'\n",
    "file_loc = os.path.join(target_dir, filename)\n",
    "\n",
    "if not os.path.isdir(target_dir):\n",
    "    os.mkdir(target_dir)\n",
    "write_textfile(target_dir, filename, response_text)\n",
    "\n",
    "with open(file_loc) as f:\n",
    "    raw_soup = soup(f, 'html.parser')\n",
    "# TODO: code something here for permissions error if can't create the dir"
   ]
  },
  {
   "cell_type": "code",
   "execution_count": 61,
   "metadata": {},
   "outputs": [],
   "source": [
    "class BJJHQProduct():\n",
    "    \n",
    "    def __init__(self, site_soup):\n",
    "        \"\"\" where site_text is the raw html text of bjjhq.com \"\"\"\n",
    "        if site_soup is not None:\n",
    "            self.data = site_soup\n",
    "            self.extract_data()\n",
    "    \n",
    "\n",
    "    def set_data(self, data):\n",
    "        \"\"\" in case data is None for some reason and we need to assign it after construction\"\"\"\n",
    "        self.data = data\n",
    "\n",
    "\n",
    "    def extract_data(self):\n",
    "        self.product_name = self.extract_product_name()\n",
    "        self.price = self.extract_price()\n",
    "\n",
    "\n",
    "    def extract_product_name(self):\n",
    "        return str(self.data.h1.get_text())\n",
    "    \n",
    "\n",
    "    def extract_price(self):\n",
    "        return str([elem.text for elem in self.data.find_all('em') if elem.text.strip()[0] == '$'][0])\n",
    "    \n",
    "    \n",
    "    def get_product_name(self):\n",
    "        return self.product_name\n",
    "\n",
    "\n",
    "    def get_price(self):\n",
    "        return self.price"
   ]
  },
  {
   "cell_type": "code",
   "execution_count": 64,
   "metadata": {},
   "outputs": [
    {
     "name": "stdout",
     "output_type": "stream",
     "text": [
      "Kitsune \"Barrage\" Gear Bag - Brown $25\n"
     ]
    }
   ],
   "source": [
    "product = BJJHQProduct(raw_soup)        \n",
    "print(product.product_name, product.price)"
   ]
  },
  {
   "cell_type": "code",
   "execution_count": null,
   "metadata": {},
   "outputs": [],
   "source": []
  }
 ],
 "metadata": {
  "kernelspec": {
   "display_name": "bjjhq",
   "language": "python",
   "name": "bjjhq"
  },
  "language_info": {
   "codemirror_mode": {
    "name": "ipython",
    "version": 3
   },
   "file_extension": ".py",
   "mimetype": "text/x-python",
   "name": "python",
   "nbconvert_exporter": "python",
   "pygments_lexer": "ipython3",
   "version": "3.9.10"
  },
  "orig_nbformat": 4
 },
 "nbformat": 4,
 "nbformat_minor": 2
}
