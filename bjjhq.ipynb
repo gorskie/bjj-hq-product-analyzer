{
 "cells": [
  {
   "cell_type": "code",
   "execution_count": null,
   "metadata": {},
   "outputs": [],
   "source": [
    "# Create a venv\n",
    "# Start with requests\n",
    "# Host a flask site on intranet with listener\n",
    "# Listener curls from BJJHQ\n",
    "# Listener writes curled site to Redis DB (or should it be mongo?) on the flask site\n",
    "# Some processing using beautiful soup\n",
    "# API for creating custom rules? use fastapi and uvicorn\n",
    "# Send email according to custom rules using email package and smtplib package\n",
    "\n",
    "# Before continuing, create a venv and install the following packages:\n",
    "# * dotenv (python-dotenv)\n",
    "# * bs4 (BeautifulSoup4)\n",
    "# * requests\n",
    "# * ipykernel\n",
    "# * redis\n",
    "# * flask\n",
    "\n",
    "\n",
    "# Don't forget to run the following:\n",
    "# >ipython kernel install --user --name=bjj-hq-product-analyzer"
   ]
  },
  {
   "cell_type": "code",
   "execution_count": 2,
   "metadata": {},
   "outputs": [],
   "source": [
    "# Add an extended venv environment preparer here"
   ]
  },
  {
   "cell_type": "code",
   "execution_count": 15,
   "metadata": {},
   "outputs": [],
   "source": [
    "# Import dependencies and load environment variables in\n",
    "import os, venv, requests, bs4, datetime\n",
    "from bs4 import BeautifulSoup as soup\n",
    "from dotenv import load_dotenv\n",
    "from datetime import datetime\n",
    "\n",
    "load_dotenv()\n",
    "dir = os.getenv(\"DIR\")\n",
    "dl_dir = os.path.join(dir, 'html-files')"
   ]
  },
  {
   "cell_type": "code",
   "execution_count": 16,
   "metadata": {},
   "outputs": [],
   "source": [
    "def format_current_time():\n",
    "    return datetime.now().strftime('%m-%d-%Y_%H%M')"
   ]
  },
  {
   "cell_type": "code",
   "execution_count": 17,
   "metadata": {},
   "outputs": [],
   "source": [
    "# Only run this once a day for now. We don't want to spam them and get IP banned.\n",
    "url = 'http://bjjhq.com'\n",
    "\n",
    "# per stackoverflow\n",
    "# https://stackoverflow.com/questions/16511337/correct-way-to-try-except-using-python-requests-module\n",
    "try:\n",
    "    response = requests.get(url, params={})\n",
    "    response.raise_for_status()\n",
    "# except requests.exceptions.HTTPError as err:\n",
    "#     raise SystemExit(err)\n",
    "# except requests.exceptions.Timeout:\n",
    "#     # Maybe set up for a retry, or continue in a retry loop\n",
    "# except requests.exceptions.TooManyRedirects:\n",
    "#     # Tell the user their URL was bad and try a different one\n",
    "except requests.exceptions.RequestException as e:\n",
    "    raise SystemExit(e)\n",
    "\n",
    "response_text = response.text\n",
    "bjj_soup = soup(response_text)"
   ]
  },
  {
   "cell_type": "code",
   "execution_count": 18,
   "metadata": {},
   "outputs": [],
   "source": [
    "def write_textfile(dir, fname, text):\n",
    "    try:\n",
    "        file_loc = os.path.join(dir, fname)\n",
    "        if not os.path.isfile(file_loc):\n",
    "            with open(file_loc, 'w') as f:\n",
    "                f.write(text)\n",
    "        else:\n",
    "            raise FileExistsError\n",
    "    except FileNotFoundError as e:\n",
    "        raise(e)\n",
    "    except FileExistsError:\n",
    "        print(f\"WARNING: Could not create file {fname} because it already exists.\")"
   ]
  },
  {
   "cell_type": "code",
   "execution_count": 19,
   "metadata": {},
   "outputs": [],
   "source": [
    "dl_fname = f'soup_{format_current_time()}.txt'\n",
    "dl_fname_loc = os.path.join(dl_dir, dl_fname)\n",
    "\n",
    "if not os.path.isdir(dl_dir):\n",
    "    os.mkdir(dl_dir)\n",
    "write_textfile(dl_dir, dl_fname, response_text)\n",
    "\n",
    "with open(dl_fname_loc) as f:\n",
    "    raw_soup = soup(f, 'html.parser')\n",
    "# TODO: code something here for permissions error if can't create the dir"
   ]
  },
  {
   "cell_type": "code",
   "execution_count": 20,
   "metadata": {},
   "outputs": [],
   "source": [
    "class BJJHQProduct():\n",
    "    \n",
    "    def __init__(self, site_soup):\n",
    "        \"\"\" where site_text is the raw html text of bjjhq.com \"\"\"\n",
    "        if site_soup is not None:\n",
    "            self.data = site_soup\n",
    "            self.extract_data()\n",
    "    \n",
    "\n",
    "    def set_data(self, data):\n",
    "        \"\"\" in case data is None for some reason and we need to assign it after construction\"\"\"\n",
    "        self.data = data\n",
    "\n",
    "\n",
    "    def extract_data(self):\n",
    "        self.product_name = self.extract_product_name()\n",
    "        self.price = self.extract_price()\n",
    "\n",
    "\n",
    "    def extract_product_name(self):\n",
    "        return str(self.data.h1.get_text())\n",
    "    \n",
    "\n",
    "    def extract_price(self):\n",
    "        return str([elem.text for elem in self.data.find_all('em') if elem.text.strip()[0] == '$'][0])\n",
    "    \n",
    "    \n",
    "    def get_product_name(self):\n",
    "        return self.product_name\n",
    "\n",
    "\n",
    "    def get_price(self):\n",
    "        return self.price"
   ]
  },
  {
   "cell_type": "code",
   "execution_count": 21,
   "metadata": {},
   "outputs": [
    {
     "name": "stdout",
     "output_type": "stream",
     "text": [
      "Kitsune \"Barrage\" Gear Bag - Brown $25\n"
     ]
    }
   ],
   "source": [
    "product = BJJHQProduct(raw_soup)        \n",
    "print(product.product_name, product.price)"
   ]
  }
 ],
 "metadata": {
  "kernelspec": {
   "display_name": "bjj-hq-product-analyzer",
   "language": "python",
   "name": "python3"
  },
  "language_info": {
   "codemirror_mode": {
    "name": "ipython",
    "version": 3
   },
   "file_extension": ".py",
   "mimetype": "text/x-python",
   "name": "python",
   "nbconvert_exporter": "python",
   "pygments_lexer": "ipython3",
   "version": "3.9.10"
  },
  "orig_nbformat": 4
 },
 "nbformat": 4,
 "nbformat_minor": 2
}
